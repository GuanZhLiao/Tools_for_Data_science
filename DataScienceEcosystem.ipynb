{
 "cells": [
  {
   "cell_type": "markdown",
   "id": "009e6698-2f10-40fd-9649-ce44c2fcc1c9",
   "metadata": {},
   "source": [
    "# Data Science Tools and Ecosystem"
   ]
  },
  {
   "cell_type": "markdown",
   "id": "5cd3d4dd-0f43-4c8b-8b60-ac58c776dbfc",
   "metadata": {},
   "source": [
    "**Objectives:**\n",
    "- Create a Jupyter Notebook\n",
    "- Insert code and markdown cells\n",
    "- Share a notebook through GitHub\n",
    "- List popular languages for Data Science\n",
    "- List libraries used by Data Scientists"
   ]
  },
  {
   "cell_type": "markdown",
   "id": "c9b53701-e4ee-4a08-8905-0f8fcd9f65ee",
   "metadata": {},
   "source": [
    "In this notebook, Data Science Tools and Ecosystem are summarized."
   ]
  },
  {
   "cell_type": "markdown",
   "id": "c6ad9dfb-9f81-4871-a25b-caeb52bd85a6",
   "metadata": {},
   "source": [
    "Some of the popular languages that Data Scientists use are:\n",
    "1. Python\n",
    "2. R\n",
    "3. SQL"
   ]
  },
  {
   "cell_type": "markdown",
   "id": "a2e005f0-32b7-4d27-b438-46a6b48cf3bd",
   "metadata": {},
   "source": [
    "Some of the commonly used libraries used by Data Scientists include:\n",
    "1. pandas\n",
    "2. numpy\n",
    "3. scikitlearn\n",
    "4. matplotlib"
   ]
  },
  {
   "cell_type": "markdown",
   "id": "c4c824cf-2352-4a7c-b5e4-b34c6d2ec950",
   "metadata": {},
   "source": [
    "|Data Science Tools|\n",
    "|---|\n",
    "| Jupyter Notebook | \n",
    "| Rstudio | \n",
    "| Spyder |"
   ]
  },
  {
   "cell_type": "markdown",
   "id": "c27886f0-b911-4dd1-a977-a30203db3014",
   "metadata": {},
   "source": [
    "### Below are a few examples of evaluating arithmetic expressions in Python\n"
   ]
  },
  {
   "cell_type": "code",
   "execution_count": 1,
   "id": "5531acc9-15bc-4c4e-a20d-0577a487cb14",
   "metadata": {},
   "outputs": [
    {
     "data": {
      "text/plain": [
       "17"
      ]
     },
     "execution_count": 1,
     "metadata": {},
     "output_type": "execute_result"
    }
   ],
   "source": [
    "(3*4)+5\n",
    "# This a simple arithmetic expression to mutiply then add integers"
   ]
  },
  {
   "cell_type": "code",
   "execution_count": 2,
   "id": "c7ed888f-2b0c-4081-81ec-10de63288e5a",
   "metadata": {},
   "outputs": [
    {
     "data": {
      "text/plain": [
       "3.3333333333333335"
      ]
     },
     "execution_count": 2,
     "metadata": {},
     "output_type": "execute_result"
    }
   ],
   "source": [
    "200 / 60\n",
    "# This will convert 200 minutes to hours by diving by 60"
   ]
  },
  {
   "cell_type": "markdown",
   "id": "4e334b7d-3726-4021-9fe1-facf80030925",
   "metadata": {},
   "source": [
    "## Author\n",
    "Guan-Zh Liao"
   ]
  },
  {
   "cell_type": "code",
   "execution_count": null,
   "id": "12191096-ccd2-4934-b013-bd82130fbbdb",
   "metadata": {},
   "outputs": [],
   "source": []
  }
 ],
 "metadata": {
  "kernelspec": {
   "display_name": "Python 3 (ipykernel)",
   "language": "python",
   "name": "python3"
  },
  "language_info": {
   "codemirror_mode": {
    "name": "ipython",
    "version": 3
   },
   "file_extension": ".py",
   "mimetype": "text/x-python",
   "name": "python",
   "nbconvert_exporter": "python",
   "pygments_lexer": "ipython3",
   "version": "3.12.8"
  }
 },
 "nbformat": 4,
 "nbformat_minor": 5
}
